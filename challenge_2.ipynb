{
 "cells": [
  {
   "cell_type": "markdown",
   "metadata": {},
   "source": [
    "Challenge Day 2  Aisa Python program likhna hai jo user se ek sentence le aur usme jitne words hain, count kare! 🔢💡  "
   ]
  },
  {
   "cell_type": "code",
   "execution_count": 14,
   "metadata": {},
   "outputs": [
    {
     "name": "stdout",
     "output_type": "stream",
     "text": [
      "Python is Easy to Learn and amazing  Programming Language\n",
      " Words in Sentence are : 9\n"
     ]
    }
   ],
   "source": [
    "user_input = input(\"enter your Thoughts:\")\n",
    "\n",
    "Break_Words = user_input.split()\n",
    "Count_Words = len(Break_Words)\n",
    "print(f\"{user_input}\\n Words in Sentence are : {Count_Words}\")"
   ]
  },
  {
   "cell_type": "markdown",
   "metadata": {},
   "source": [
    "💡 Bonus Challenge (Optional) 🤩\n",
    "program ko aise modify karo ke words ko reverse order me print kare! 🔄  \n",
    "📌 Example:  \n",
    "🔹 Input: \"I love Python\"  \n",
    "🔹 Output: \"Python love I\"  "
   ]
  },
  {
   "cell_type": "code",
   "execution_count": null,
   "metadata": {},
   "outputs": [
    {
     "name": "stdout",
     "output_type": "stream",
     "text": [
      "Reverse Sentence is : Language Programming amazing and Learn to Easy is Python\n"
     ]
    }
   ],
   "source": [
    "words = user_input.split()\n",
    "reverse_sentence = words.reverse() # reverse_sentence = \" \".join(reversed(words)) Both ways are right\n",
    "reverse_sentence = ' '.join(words)\n",
    "print(f\"Reverse Sentence is : {reverse_sentence}\")"
   ]
  }
 ],
 "metadata": {
  "kernelspec": {
   "display_name": "Python 3",
   "language": "python",
   "name": "python3"
  },
  "language_info": {
   "codemirror_mode": {
    "name": "ipython",
    "version": 3
   },
   "file_extension": ".py",
   "mimetype": "text/x-python",
   "name": "python",
   "nbconvert_exporter": "python",
   "pygments_lexer": "ipython3",
   "version": "3.11.9"
  }
 },
 "nbformat": 4,
 "nbformat_minor": 2
}
